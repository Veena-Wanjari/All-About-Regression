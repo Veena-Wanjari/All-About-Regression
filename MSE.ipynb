{
 "cells": [
  {
   "cell_type": "markdown",
   "metadata": {},
   "source": [
    "# Test Results"
   ]
  },
  {
   "cell_type": "markdown",
   "metadata": {},
   "source": [
    "Problem:\n",
    "\n",
    "1) A school principle wants to hire 1 teacher.\n",
    "\n",
    "2) He gives 5 students to each teacher(teacher A & teacher B).\n",
    "\n",
    "3) He conduct exams of all 10 students and check total.\n",
    "\n",
    "3) Total marks of students for both teachers are 70."
   ]
  },
  {
   "cell_type": "markdown",
   "metadata": {},
   "source": [
    "\n",
    "# Univariate Analysis to calculate MSE\n",
    "\n",
    "## For Teacher 1:"
   ]
  },
  {
   "cell_type": "markdown",
   "metadata": {},
   "source": [
    "| Students | Marks |\n",
    "| :-: | :-: |\n",
    "| A| 19 |\n",
    "| B| 17|\n",
    "| C| 9|\n",
    "| D| 13|\n",
    "|E| 12|\n",
    "| Total| 70|"
   ]
  },
  {
   "cell_type": "markdown",
   "metadata": {},
   "source": [
    "# For Teacher 2:"
   ]
  },
  {
   "cell_type": "markdown",
   "metadata": {},
   "source": [
    "| Students | Marks |\n",
    "| :-: | :-: |\n",
    "| A| 14 |\n",
    "| B| 15|\n",
    "| C| 16|\n",
    "| D| 13|\n",
    "|E| 12|\n",
    "| Total| 70|"
   ]
  },
  {
   "cell_type": "markdown",
   "metadata": {},
   "source": [
    "Mean for Teacher A : 14\n",
    "    \n",
    "Mean for Teacher B : 14"
   ]
  },
  {
   "cell_type": "markdown",
   "metadata": {},
   "source": [
    "# Calculated Mean Squared Errors or Residuals for both Teacher A & Teacher B\n",
    "\n",
    "#### Resudals for A and B : The sum of all the residuals wrt. their teachers is equal to zero."
   ]
  },
  {
   "cell_type": "markdown",
   "metadata": {},
   "source": [
    "| Students | Residuals |\n",
    "| :-: | :-: |\n",
    "| A| 19 - 14 = 5|\n",
    "| B| 17 - 14 = 3|\n",
    "| C| 9 - 14 = -5|\n",
    "| D| 13 - 14 = -2|\n",
    "|E| 12 - 14 = -1|\n",
    "| Total| 0 |"
   ]
  },
  {
   "cell_type": "markdown",
   "metadata": {},
   "source": [
    "| Students | Residuals |\n",
    "| :-: | :-: |\n",
    "| A| 14 - 14 = 0|\n",
    "| B| 15 - 14 = 1|\n",
    "| C| 16 - 14 = 2|\n",
    "| D| 13 - 14 = -1|\n",
    "|E| 12 - 14 = -2|\n",
    "| Total| 0 |"
   ]
  },
  {
   "cell_type": "markdown",
   "metadata": {},
   "source": [
    "# Mean Squared Error Definition\n",
    "\n",
    "The mean squared error tells you how close a regression line is to a set of points. \n",
    "\n",
    "It does this by taking the distances from the points to the regression line (these distances are the “errors”) and squaring them. The squaring is necessary to remove any negative signs. It also gives more weight to larger differences. \n",
    "\n",
    "It’s called the mean squared error as we're finding the average of a set of errors."
   ]
  },
  {
   "cell_type": "markdown",
   "metadata": {},
   "source": [
    "# Calculation of MSE using statistical way:"
   ]
  },
  {
   "cell_type": "markdown",
   "metadata": {},
   "source": [
    "MSE_for_teacher_A : \n",
    "            \n",
    "   $ 5^2 + 3^2 +(-5)^2 + (-2)^2 + (-1)^2 / 5 = 64.5/5 = 12.4 $\n"
   ]
  },
  {
   "cell_type": "markdown",
   "metadata": {},
   "source": [
    "MSE_for_teacher_B : \n",
    "\n",
    "$ 0 + 1^2 + 2^2 + (-1)^2 + (-2)^2 / 5 $ = 10/5 = 2 "
   ]
  },
  {
   "cell_type": "markdown",
   "metadata": {},
   "source": [
    "## MSE calculations using numpy : Teacher A"
   ]
  },
  {
   "cell_type": "code",
   "execution_count": 14,
   "metadata": {},
   "outputs": [
    {
     "name": "stdout",
     "output_type": "stream",
     "text": [
      "12.8\n"
     ]
    }
   ],
   "source": [
    "import numpy as np \n",
    "\n",
    "# Given values \n",
    "Y_true = [19,17,9,13,12] # Y_true = Y (original values) \n",
    "\n",
    "# calculated values \n",
    "Y_pred = 14 # Y_pred = Y' [14,14,14,14,14], , numpy supports broadcasting i.e. [14,14,14,14,14] he will consider \n",
    "\n",
    "# Mean Squared Error \n",
    "MSE = np.square(np.subtract(Y_true,Y_pred)).mean()\n",
    "#this is same as subtracting each data point from mean(xi - x^) and then square it (xi-x^)^2 / mean(i.e. 14)\n",
    "\n",
    "print(MSE)"
   ]
  },
  {
   "cell_type": "markdown",
   "metadata": {},
   "source": [
    "## MSE calculations using Scikit-learn : Teacher A"
   ]
  },
  {
   "cell_type": "code",
   "execution_count": 15,
   "metadata": {},
   "outputs": [
    {
     "name": "stdout",
     "output_type": "stream",
     "text": [
      "12.8\n"
     ]
    }
   ],
   "source": [
    "#scikit-learn has a module known as metrics which will help us to evaluate our model\n",
    "from sklearn.metrics import mean_squared_error \n",
    "\n",
    "# Given values \n",
    "Y_true = [19,17,9,13,12] # Y_true = Y (original values) \n",
    "\n",
    "# calculated values \n",
    "Y_pred = [14, 14, 14, 14, 14] # Y_pred = Y'\n",
    "\n",
    "# Calculation of Mean Squared Error (MSE) \n",
    "MSE = mean_squared_error(Y_true,Y_pred)\n",
    "\n",
    "print(MSE)"
   ]
  },
  {
   "cell_type": "markdown",
   "metadata": {},
   "source": [
    "## MSE calculations using numpy : Teacher B"
   ]
  },
  {
   "cell_type": "code",
   "execution_count": 16,
   "metadata": {},
   "outputs": [
    {
     "name": "stdout",
     "output_type": "stream",
     "text": [
      "2.0\n"
     ]
    }
   ],
   "source": [
    "# Given values \n",
    "Y_true = [14,15,16,13,12] # Y_true = Y (original values) \n",
    "\n",
    "# calculated values \n",
    "Y_pred = [14,14,14,14,14] # Y_pred = Y' \n",
    "\n",
    "# Mean Squared Error \n",
    "MSE = np.square(np.subtract(Y_true,Y_pred)).mean() \n",
    "\n",
    "print(MSE)"
   ]
  },
  {
   "cell_type": "markdown",
   "metadata": {},
   "source": [
    "## MSE calculations using Scikit-learn : Teacher B"
   ]
  },
  {
   "cell_type": "code",
   "execution_count": 17,
   "metadata": {},
   "outputs": [
    {
     "name": "stdout",
     "output_type": "stream",
     "text": [
      "2.0\n"
     ]
    }
   ],
   "source": [
    "# Given values \n",
    "Y_true = [14,15,16,13,12] # Y_true = Y (original values) \n",
    "\n",
    "# calculated values \n",
    "Y_pred = [14,14,14,14,14] # Y_pred = Y' , scikit-learn doesn't support broadcasting\n",
    "\n",
    "# Calculation of Mean Squared Error (MSE) \n",
    "MSE = mean_squared_error(Y_true,Y_pred)\n",
    "\n",
    "print(MSE)"
   ]
  },
  {
   "cell_type": "markdown",
   "metadata": {},
   "source": [
    "# Decisions made:\n",
    "   ## Teacher 2 has less MSE , so she is hired."
   ]
  },
  {
   "cell_type": "markdown",
   "metadata": {},
   "source": [
    "1) Less the MSE, the more efficient our model is.\n",
    "\n",
    "2) The model is centerd around the observed values."
   ]
  }
 ],
 "metadata": {
  "kernelspec": {
   "display_name": "Python 3",
   "language": "python",
   "name": "python3"
  },
  "language_info": {
   "codemirror_mode": {
    "name": "ipython",
    "version": 3
   },
   "file_extension": ".py",
   "mimetype": "text/x-python",
   "name": "python",
   "nbconvert_exporter": "python",
   "pygments_lexer": "ipython3",
   "version": "3.8.2"
  }
 },
 "nbformat": 4,
 "nbformat_minor": 4
}
